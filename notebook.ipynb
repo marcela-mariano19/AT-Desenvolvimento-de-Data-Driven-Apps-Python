{
 "cells": [
  {
   "cell_type": "code",
   "execution_count": 1,
   "metadata": {},
   "outputs": [
    {
     "name": "stderr",
     "output_type": "stream",
     "text": [
      "c:\\Users\\Marcela Beatriz\\infnet_data_driven_at\\Lib\\site-packages\\tqdm\\auto.py:21: TqdmWarning: IProgress not found. Please update jupyter and ipywidgets. See https://ipywidgets.readthedocs.io/en/stable/user_install.html\n",
      "  from .autonotebook import tqdm as notebook_tqdm\n"
     ]
    }
   ],
   "source": [
    "from langchain_google_genai import ChatGoogleGenerativeAI\n",
    "from langchain_core.prompts import ChatPromptTemplate\n",
    "from statsbombpy import sb"
   ]
  },
  {
   "cell_type": "code",
   "execution_count": 2,
   "metadata": {},
   "outputs": [
    {
     "name": "stderr",
     "output_type": "stream",
     "text": [
      "c:\\Users\\Marcela Beatriz\\infnet_data_driven_at\\Lib\\site-packages\\statsbombpy\\api_client.py:21: NoAuthWarning: credentials were not supplied. open data access only\n",
      "  warnings.warn(\n"
     ]
    },
    {
     "data": {
      "text/html": [
       "<div>\n",
       "<style scoped>\n",
       "    .dataframe tbody tr th:only-of-type {\n",
       "        vertical-align: middle;\n",
       "    }\n",
       "\n",
       "    .dataframe tbody tr th {\n",
       "        vertical-align: top;\n",
       "    }\n",
       "\n",
       "    .dataframe thead th {\n",
       "        text-align: right;\n",
       "    }\n",
       "</style>\n",
       "<table border=\"1\" class=\"dataframe\">\n",
       "  <thead>\n",
       "    <tr style=\"text-align: right;\">\n",
       "      <th></th>\n",
       "      <th>match_id</th>\n",
       "      <th>match_date</th>\n",
       "      <th>kick_off</th>\n",
       "      <th>competition</th>\n",
       "      <th>season</th>\n",
       "      <th>home_team</th>\n",
       "      <th>away_team</th>\n",
       "      <th>home_score</th>\n",
       "      <th>away_score</th>\n",
       "      <th>match_status</th>\n",
       "      <th>...</th>\n",
       "      <th>last_updated_360</th>\n",
       "      <th>match_week</th>\n",
       "      <th>competition_stage</th>\n",
       "      <th>stadium</th>\n",
       "      <th>referee</th>\n",
       "      <th>home_managers</th>\n",
       "      <th>away_managers</th>\n",
       "      <th>data_version</th>\n",
       "      <th>shot_fidelity_version</th>\n",
       "      <th>xy_fidelity_version</th>\n",
       "    </tr>\n",
       "  </thead>\n",
       "  <tbody>\n",
       "    <tr>\n",
       "      <th>62</th>\n",
       "      <td>7556</td>\n",
       "      <td>2018-06-24</td>\n",
       "      <td>17:00:00.000</td>\n",
       "      <td>International - FIFA World Cup</td>\n",
       "      <td>2018</td>\n",
       "      <td>Japan</td>\n",
       "      <td>Senegal</td>\n",
       "      <td>2</td>\n",
       "      <td>2</td>\n",
       "      <td>available</td>\n",
       "      <td>...</td>\n",
       "      <td>2021-06-13T16:17:31.694</td>\n",
       "      <td>2</td>\n",
       "      <td>Group Stage</td>\n",
       "      <td>\\tEkaterinburg Arena</td>\n",
       "      <td>Gianluca Rocchi</td>\n",
       "      <td>Akira Nishino</td>\n",
       "      <td>Aliou Cissé</td>\n",
       "      <td>1.0.2</td>\n",
       "      <td>None</td>\n",
       "      <td>None</td>\n",
       "    </tr>\n",
       "  </tbody>\n",
       "</table>\n",
       "<p>1 rows × 22 columns</p>\n",
       "</div>"
      ],
      "text/plain": [
       "    match_id  match_date      kick_off                     competition season  \\\n",
       "62      7556  2018-06-24  17:00:00.000  International - FIFA World Cup   2018   \n",
       "\n",
       "   home_team away_team  home_score  away_score match_status  ...  \\\n",
       "62     Japan   Senegal           2           2    available  ...   \n",
       "\n",
       "           last_updated_360 match_week competition_stage  \\\n",
       "62  2021-06-13T16:17:31.694          2       Group Stage   \n",
       "\n",
       "                 stadium          referee  home_managers away_managers  \\\n",
       "62  \\tEkaterinburg Arena  Gianluca Rocchi  Akira Nishino   Aliou Cissé   \n",
       "\n",
       "   data_version shot_fidelity_version xy_fidelity_version  \n",
       "62        1.0.2                  None                None  \n",
       "\n",
       "[1 rows x 22 columns]"
      ]
     },
     "execution_count": 2,
     "metadata": {},
     "output_type": "execute_result"
    }
   ],
   "source": [
    "matches = sb.matches(competition_id=43, season_id=3)\n",
    "\n",
    "matches[matches['match_id']== 7556]"
   ]
  },
  {
   "cell_type": "code",
   "execution_count": 3,
   "metadata": {},
   "outputs": [
    {
     "name": "stderr",
     "output_type": "stream",
     "text": [
      "c:\\Users\\Marcela Beatriz\\infnet_data_driven_at\\Lib\\site-packages\\statsbombpy\\api_client.py:21: NoAuthWarning: credentials were not supplied. open data access only\n",
      "  warnings.warn(\n",
      "c:\\Users\\Marcela Beatriz\\infnet_data_driven_at\\Lib\\site-packages\\statsbombpy\\api_client.py:21: NoAuthWarning: credentials were not supplied. open data access only\n",
      "  warnings.warn(\n"
     ]
    },
    {
     "name": "stdout",
     "output_type": "stream",
     "text": [
      "home_team Japan away_team Senegal \n",
      "You are analyzing a football match. The match has 4 goals, 868 pressures and 1 yellow cards.\n"
     ]
    }
   ],
   "source": [
    "events = sb.events(match_id=7556)\n",
    "goals = events[events['shot_outcome'] == 'Goal'].shape[0]\n",
    "passes = events[events['type'] == 'Pass'].shape[0]\n",
    "try:\n",
    "    yellow_cards = events[events['bad_behaviour_card'] == 'Yellow Card'].shape[0]\n",
    "\n",
    "except KeyError:\n",
    "    yellow_cards = 0\n",
    "match = sb.matches(competition_id=43, season_id=3)\n",
    "match = match[match['match_id'] == 7556]\n",
    "home_team = match['home_team'].values[0]\n",
    "home_score = match['home_score'].values[0]\n",
    "away_team = match['away_team'].values[0]\n",
    "event_goals = events[events['shot_outcome'] == 'Goal']\n",
    "list_players_goals = []\n",
    "for i in range(event_goals.shape[0]):\n",
    "    player = event_goals['player'].values[i]\n",
    "    team = event_goals['team'].values[i]\n",
    "    list_players_goals.append({'player': player, 'team': team})\n",
    "\n",
    "print(f\"You are analyzing a football match. The match has {goals} goals, {passes} pressures and {yellow_cards} yellow cards.\")"
   ]
  },
  {
   "cell_type": "code",
   "execution_count": 7,
   "metadata": {},
   "outputs": [
    {
     "name": "stdout",
     "output_type": "stream",
     "text": [
      "Player Sadio Mané from team Senegal scored a goal with pass_assisted_shot_id  nan\n",
      "Player Takashi Inui from team Japan scored a goal with pass_assisted_shot_id  nan\n",
      "Player Moussa Wagué from team Senegal scored a goal with pass_assisted_shot_id  nan\n",
      "Player Keisuke Honda from team Japan scored a goal with pass_assisted_shot_id  nan\n"
     ]
    }
   ],
   "source": [
    "x = events[events['shot_outcome'] == 'Goal']\n",
    "list_players_goals = []\n",
    "for i in range(x.shape[0]):\n",
    "    player = x['player'].values[i]\n",
    "    team = x['team'].values[i]\n",
    "    list_players_goals.append({'player': player, 'team': team})\n"
   ]
  },
  {
   "cell_type": "code",
   "execution_count": 15,
   "metadata": {},
   "outputs": [
    {
     "data": {
      "text/plain": [
       "Index(['50_50', 'bad_behaviour_card', 'ball_receipt_outcome',\n",
       "       'ball_recovery_recovery_failure', 'block_offensive',\n",
       "       'carry_end_location', 'clearance_aerial_won', 'counterpress',\n",
       "       'dribble_outcome', 'dribble_overrun', 'duel_outcome', 'duel_type',\n",
       "       'duration', 'foul_committed_advantage', 'foul_committed_card',\n",
       "       'foul_committed_offensive', 'foul_won_advantage', 'foul_won_defensive',\n",
       "       'goalkeeper_body_part', 'goalkeeper_end_location', 'goalkeeper_outcome',\n",
       "       'goalkeeper_position', 'goalkeeper_technique', 'goalkeeper_type', 'id',\n",
       "       'index', 'injury_stoppage_in_chain', 'interception_outcome', 'location',\n",
       "       'match_id', 'minute', 'pass_aerial_won', 'pass_angle',\n",
       "       'pass_assisted_shot_id', 'pass_backheel', 'pass_body_part',\n",
       "       'pass_cross', 'pass_cut_back', 'pass_end_location', 'pass_goal_assist',\n",
       "       'pass_height', 'pass_length', 'pass_outcome', 'pass_recipient',\n",
       "       'pass_recipient_id', 'pass_shot_assist', 'pass_switch',\n",
       "       'pass_technique', 'pass_through_ball', 'pass_type', 'period',\n",
       "       'play_pattern', 'player', 'player_id', 'position', 'possession',\n",
       "       'possession_team', 'possession_team_id', 'related_events', 'second',\n",
       "       'shot_aerial_won', 'shot_body_part', 'shot_end_location',\n",
       "       'shot_first_time', 'shot_freeze_frame', 'shot_key_pass_id',\n",
       "       'shot_one_on_one', 'shot_outcome', 'shot_statsbomb_xg',\n",
       "       'shot_technique', 'shot_type', 'substitution_outcome',\n",
       "       'substitution_outcome_id', 'substitution_replacement',\n",
       "       'substitution_replacement_id', 'tactics', 'team', 'team_id',\n",
       "       'timestamp', 'type', 'under_pressure'],\n",
       "      dtype='object')"
      ]
     },
     "execution_count": 15,
     "metadata": {},
     "output_type": "execute_result"
    }
   ],
   "source": [
    "x.columns"
   ]
  },
  {
   "cell_type": "code",
   "execution_count": 4,
   "metadata": {},
   "outputs": [
    {
     "name": "stderr",
     "output_type": "stream",
     "text": [
      "c:\\Users\\Marcela Beatriz\\infnet_data_driven_at\\Lib\\site-packages\\statsbombpy\\api_client.py:21: NoAuthWarning: credentials were not supplied. open data access only\n",
      "  warnings.warn(\n"
     ]
    }
   ],
   "source": [
    "events = sb.events(match_id=7556)"
   ]
  },
  {
   "cell_type": "code",
   "execution_count": 18,
   "metadata": {},
   "outputs": [
    {
     "data": {
      "text/plain": [
       "[{'player': 'Yuto Nagatomo', 'team': 'Japan'},\n",
       " {'player': 'Takashi Inui', 'team': 'Japan'}]"
      ]
     },
     "execution_count": 18,
     "metadata": {},
     "output_type": "execute_result"
    }
   ],
   "source": [
    "y = events[events['pass_goal_assist'] == True]\n",
    "y[['player', 'team']].to_dict('records')"
   ]
  },
  {
   "cell_type": "code",
   "execution_count": 19,
   "metadata": {},
   "outputs": [
    {
     "name": "stderr",
     "output_type": "stream",
     "text": [
      "c:\\Users\\Marcela Beatriz\\infnet_data_driven_at\\Lib\\site-packages\\statsbombpy\\api_client.py:21: NoAuthWarning: credentials were not supplied. open data access only\n",
      "  warnings.warn(\n"
     ]
    }
   ],
   "source": [
    "match = sb.matches(competition_id=43, season_id=3)"
   ]
  },
  {
   "cell_type": "markdown",
   "metadata": {},
   "source": [
    "Montando "
   ]
  },
  {
   "cell_type": "code",
   "execution_count": null,
   "metadata": {},
   "outputs": [],
   "source": []
  }
 ],
 "metadata": {
  "kernelspec": {
   "display_name": "infnet_data_driven_at",
   "language": "python",
   "name": "python3"
  },
  "language_info": {
   "codemirror_mode": {
    "name": "ipython",
    "version": 3
   },
   "file_extension": ".py",
   "mimetype": "text/x-python",
   "name": "python",
   "nbconvert_exporter": "python",
   "pygments_lexer": "ipython3",
   "version": "3.12.4"
  }
 },
 "nbformat": 4,
 "nbformat_minor": 2
}
